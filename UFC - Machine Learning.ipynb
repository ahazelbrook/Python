{
 "cells": [
  {
   "cell_type": "code",
   "execution_count": null,
   "metadata": {},
   "outputs": [
    {
     "name": "stderr",
     "output_type": "stream",
     "text": [
      "C:\\Users\\alexander.hazelbrook\\AppData\\Local\\Continuum\\anaconda3\\lib\\site-packages\\sklearn\\linear_model\\logistic.py:432: FutureWarning: Default solver will be changed to 'lbfgs' in 0.22. Specify a solver to silence this warning.\n",
      "  FutureWarning)\n"
     ]
    },
    {
     "name": "stdout",
     "output_type": "stream",
     "text": [
      "0.624405705229794\n"
     ]
    }
   ],
   "source": [
    "import pandas as pd\n",
    "import numpy as np\n",
    "import random\n",
    "import matplotlib.pyplot as plt\n",
    "from sklearn.linear_model import LogisticRegression\n",
    "from sklearn.model_selection import train_test_split\n",
    "from sklearn.preprocessing import StandardScaler\n",
    "\n",
    "#Load the UFC Data\n",
    "ufc_data = pd.read_csv(\"data.csv\")\n",
    "pd.set_option('display.max_columns', None)\n",
    "pd.set_option('display.max_rows', None)\n",
    "\n",
    "#Update Stance Columns to be 1 for Ortho and 0 for Southpaw\n",
    "ufc_data['R_Stance'] = ufc_data['R_Stance'].map({'Orthodox': 1, 'Southpaw': 0, 'Open Stance': 1, \"Switch\": 0})\n",
    "ufc_data['B_Stance'] = ufc_data['B_Stance'].map({'Orthodox': 1, 'Southpaw': 0, 'Open Stance': 1, \"Switch\": 0})\n",
    "\n",
    "#Update Winner, Red is 1, and Blue is 0\n",
    "ufc_data['Winner'] = ufc_data['Winner'].map({'Red': 1, 'Blue': 0})\n",
    "\n",
    "#Clean the data\n",
    "ufc_data = ufc_data.dropna()\n",
    "\n",
    "#Data for the Model\n",
    "features = ufc_data[['B_current_lose_streak', 'R_current_lose_streak', 'B_current_win_streak', 'R_current_win_streak', 'R_Stance', 'B_Stance', 'B_age', 'R_age', 'B_Height_cms', 'B_Reach_cms', 'R_Height_cms', \"R_Reach_cms\", 'B_avg_SIG_STR_pct', 'R_avg_SIG_STR_pct']]\n",
    "features_all = ufc_data.drop(['Winner', 'R_fighter', 'B_fighter', 'Referee', 'date', 'location', 'title_bout', 'weight_class'], axis = 1)\n",
    "features_R = ufc_data[['R_current_lose_streak', 'R_current_win_streak', 'R_Stance', 'R_age', 'R_Height_cms', \"R_Reach_cms\", 'R_avg_SIG_STR_pct']]\n",
    "winner = ufc_data['Winner']\n",
    "\n",
    "#Split the Data\n",
    "training_data, test_data, training_labels, test_labels = train_test_split(features_R, winner, test_size = 0.2)\n",
    "\n",
    "#Scale the Data\n",
    "scaler = StandardScaler()\n",
    "scaled_training_data = scaler.fit_transform(training_data)\n",
    "scaled_test_data = scaler.transform(test_data)\n",
    "\n",
    "#Let's make a model\n",
    "model = LogisticRegression(random_state = 1)\n",
    "model.fit(scaled_training_data, training_labels)\n",
    "\n",
    "#let's score the model\n",
    "print(model.score(test_data, test_labels))\n",
    "\n",
    "#Which Coefficient is having the biggest impact\n",
    "coefficients = list(zip(features_R,model.coef_[0]))\n",
    "sorted_coefficients = sorted(coefficients, key=lambda tup:tup[1])\n",
    "# Uncomment below to see which Coefficients are making the most effect \n",
    "#print(sorted_coefficients)\n",
    "\n",
    "enter_current_lose_streak = input(\"What is your current lose streak? \")\n",
    "enter_current_win_streak = input(\"What is your current win streak? \")\n",
    "enter_stance = input(\"What is your Stance? 1 is Orthodox, 0 is SouthPaw \")\n",
    "enter_age = input(\"How old are you? \")\n",
    "enter_height = input(\"How tall are you? \")\n",
    "enter_reach = input(\"What is your reach in cm? \")\n",
    "enter_sig_strike_pct = random.randint(40, 80) / 100\n",
    "\n",
    "compiled_list = [int(enter_current_lose_streak), int(enter_current_win_streak), int(enter_stance), int(enter_age), int(enter_height), int(enter_reach), int(enter_sig_strike_pct)]\n",
    "entered_fighter = np.array([compiled_list])\n",
    "scaled_entered_fighter = scaler.transform(entered_fighter)\n",
    "\n",
    "will_you_win = model.predict(scaled_entered_fighter)\n",
    "prob_of_winning = model.predict_proba(scaled_entered_fighter)\n",
    "\n",
    "if will_you_win == 0:\n",
    "    print(\"Congratulations you are going to win\")\n",
    "else:\n",
    "    print(\"Boom you got knocked out!\")\n",
    "\n",
    "    \n",
    "#All the above does is looks at the R data and if they won. It predicts correctly 60% of the time\n",
    "# the next steps- need to work out a way to calcualte reach advantage, age advatnage and do something with this significant strike stuff\n",
    "#Then we can come up with functions to determine reach advantage / type of fighter advantage.\n",
    "\n"
   ]
  }
 ],
 "metadata": {
  "kernelspec": {
   "display_name": "Python 3",
   "language": "python",
   "name": "python3"
  },
  "language_info": {
   "codemirror_mode": {
    "name": "ipython",
    "version": 3
   },
   "file_extension": ".py",
   "mimetype": "text/x-python",
   "name": "python",
   "nbconvert_exporter": "python",
   "pygments_lexer": "ipython3",
   "version": "3.7.4"
  }
 },
 "nbformat": 4,
 "nbformat_minor": 2
}
